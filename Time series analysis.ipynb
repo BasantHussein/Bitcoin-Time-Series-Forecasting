{
 "cells": [
  {
   "cell_type": "code",
   "execution_count": 13,
   "metadata": {},
   "outputs": [
    {
     "name": "stdout",
     "output_type": "stream",
     "text": [
      "Collecting xgboost\n",
      "  Downloading xgboost-1.5.2-py3-none-win_amd64.whl (106.6 MB)\n",
      "Requirement already satisfied: numpy in c:\\users\\el7md\\anaconda3\\lib\\site-packages (from xgboost) (1.18.1)\n",
      "Requirement already satisfied: scipy in c:\\users\\el7md\\anaconda3\\lib\\site-packages (from xgboost) (1.7.3)\n",
      "Installing collected packages: xgboost\n",
      "Successfully installed xgboost-1.5.2\n",
      "Note: you may need to restart the kernel to use updated packages.\n"
     ]
    },
    {
     "name": "stderr",
     "output_type": "stream",
     "text": [
      "WARNING: You are using pip version 20.2.2; however, version 22.0.4 is available.\n",
      "You should consider upgrading via the 'C:\\Users\\EL7md\\anaconda3\\python.exe -m pip install --upgrade pip' command.\n"
     ]
    }
   ],
   "source": [
    "pip install xgboost"
   ]
  },
  {
   "cell_type": "code",
   "execution_count": 16,
   "metadata": {},
   "outputs": [],
   "source": [
    "# import libraries\n",
    "import pandas as pd\n",
    "import numpy as np\n",
    "from sqlalchemy import create_engine\n",
    "import datetime\n",
    "import xgboost as xgb \n"
   ]
  },
  {
   "cell_type": "code",
   "execution_count": 2,
   "metadata": {},
   "outputs": [],
   "source": [
    "# load data from database\n",
    "engine=create_engine('sqlite:///LogWeeklyData.db')\n",
    "df=pd.read_sql_table(\"LogWeeklyData\", con=engine)"
   ]
  },
  {
   "cell_type": "code",
   "execution_count": 3,
   "metadata": {},
   "outputs": [
    {
     "data": {
      "text/html": [
       "<div>\n",
       "<style scoped>\n",
       "    .dataframe tbody tr th:only-of-type {\n",
       "        vertical-align: middle;\n",
       "    }\n",
       "\n",
       "    .dataframe tbody tr th {\n",
       "        vertical-align: top;\n",
       "    }\n",
       "\n",
       "    .dataframe thead th {\n",
       "        text-align: right;\n",
       "    }\n",
       "</style>\n",
       "<table border=\"1\" class=\"dataframe\">\n",
       "  <thead>\n",
       "    <tr style=\"text-align: right;\">\n",
       "      <th></th>\n",
       "      <th>Open</th>\n",
       "      <th>High</th>\n",
       "      <th>Low</th>\n",
       "      <th>Close</th>\n",
       "      <th>Volume_(BTC)</th>\n",
       "      <th>Volume_(Currency)</th>\n",
       "      <th>Weighted_Price</th>\n",
       "      <th>Timestamp</th>\n",
       "    </tr>\n",
       "  </thead>\n",
       "  <tbody>\n",
       "    <tr>\n",
       "      <th>0</th>\n",
       "      <td>5.707110</td>\n",
       "      <td>5.707110</td>\n",
       "      <td>5.707110</td>\n",
       "      <td>5.707110</td>\n",
       "      <td>0.009950</td>\n",
       "      <td>1.386294</td>\n",
       "      <td>5.707110</td>\n",
       "      <td>2014-12-01</td>\n",
       "    </tr>\n",
       "    <tr>\n",
       "      <th>1</th>\n",
       "      <td>5.988961</td>\n",
       "      <td>5.988961</td>\n",
       "      <td>5.988961</td>\n",
       "      <td>5.988961</td>\n",
       "      <td>0.009950</td>\n",
       "      <td>1.605430</td>\n",
       "      <td>5.988961</td>\n",
       "      <td>2014-12-15</td>\n",
       "    </tr>\n",
       "    <tr>\n",
       "      <th>2</th>\n",
       "      <td>5.846439</td>\n",
       "      <td>5.846439</td>\n",
       "      <td>5.831882</td>\n",
       "      <td>5.831882</td>\n",
       "      <td>1.098612</td>\n",
       "      <td>6.530878</td>\n",
       "      <td>5.839187</td>\n",
       "      <td>2014-12-22</td>\n",
       "    </tr>\n",
       "    <tr>\n",
       "      <th>3</th>\n",
       "      <td>5.888878</td>\n",
       "      <td>5.888878</td>\n",
       "      <td>5.888878</td>\n",
       "      <td>5.888878</td>\n",
       "      <td>0.009950</td>\n",
       "      <td>1.526056</td>\n",
       "      <td>5.888878</td>\n",
       "      <td>2015-01-12</td>\n",
       "    </tr>\n",
       "    <tr>\n",
       "      <th>4</th>\n",
       "      <td>5.564520</td>\n",
       "      <td>5.564520</td>\n",
       "      <td>5.564520</td>\n",
       "      <td>5.564520</td>\n",
       "      <td>0.693147</td>\n",
       "      <td>5.564520</td>\n",
       "      <td>5.564520</td>\n",
       "      <td>2015-01-19</td>\n",
       "    </tr>\n",
       "  </tbody>\n",
       "</table>\n",
       "</div>"
      ],
      "text/plain": [
       "       Open      High       Low     Close  Volume_(BTC)  Volume_(Currency)  \\\n",
       "0  5.707110  5.707110  5.707110  5.707110      0.009950           1.386294   \n",
       "1  5.988961  5.988961  5.988961  5.988961      0.009950           1.605430   \n",
       "2  5.846439  5.846439  5.831882  5.831882      1.098612           6.530878   \n",
       "3  5.888878  5.888878  5.888878  5.888878      0.009950           1.526056   \n",
       "4  5.564520  5.564520  5.564520  5.564520      0.693147           5.564520   \n",
       "\n",
       "   Weighted_Price  Timestamp  \n",
       "0        5.707110 2014-12-01  \n",
       "1        5.988961 2014-12-15  \n",
       "2        5.839187 2014-12-22  \n",
       "3        5.888878 2015-01-12  \n",
       "4        5.564520 2015-01-19  "
      ]
     },
     "execution_count": 3,
     "metadata": {},
     "output_type": "execute_result"
    }
   ],
   "source": [
    "# print the head\n",
    "df.head()"
   ]
  },
  {
   "cell_type": "code",
   "execution_count": 10,
   "metadata": {},
   "outputs": [],
   "source": [
    "# split the data\n",
    "date=datetime.datetime(2017, 12, 31)\n",
    "X_test=df.loc[df['Timestamp']>date]\n",
    "y_test=X_test['Weighted_Price']\n",
    "X_test=X_test.drop('Weighted_Price',axis=1)\n",
    "X_train=df.loc[df['Timestamp']<=date]\n",
    "y_train=X_train['Weighted_Price']\n",
    "X_train=X_train.drop('Weighted_Price',axis=1)\n"
   ]
  },
  {
   "cell_type": "code",
   "execution_count": 11,
   "metadata": {},
   "outputs": [
    {
     "name": "stdout",
     "output_type": "stream",
     "text": [
      "(149, 7)\n",
      "(46, 7)\n"
     ]
    }
   ],
   "source": [
    "# check shape of x_train and x_test\n",
    "print(X_train.shape)\n",
    "print(X_test.shape)"
   ]
  },
  {
   "cell_type": "markdown",
   "metadata": {},
   "source": [
    "## Model Building"
   ]
  },
  {
   "cell_type": "code",
   "execution_count": 18,
   "metadata": {},
   "outputs": [],
   "source": [
    "# create an xgboost regression model\n",
    "#model = xgb.XGBRegressor()\n",
    "\n",
    "# fit the model\n",
    "#model.fit(X_train,y_train)\n",
    "\n"
   ]
  },
  {
   "cell_type": "code",
   "execution_count": null,
   "metadata": {},
   "outputs": [],
   "source": []
  }
 ],
 "metadata": {
  "kernelspec": {
   "display_name": "Python 3",
   "language": "python",
   "name": "python3"
  },
  "language_info": {
   "codemirror_mode": {
    "name": "ipython",
    "version": 3
   },
   "file_extension": ".py",
   "mimetype": "text/x-python",
   "name": "python",
   "nbconvert_exporter": "python",
   "pygments_lexer": "ipython3",
   "version": "3.7.4"
  }
 },
 "nbformat": 4,
 "nbformat_minor": 4
}
