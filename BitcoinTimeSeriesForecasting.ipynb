{
 "cells": [
  {
   "cell_type": "code",
   "execution_count": 57,
   "metadata": {},
   "outputs": [],
   "source": [
    "# import libraries\n",
    "import pandas as pd\n",
    "import matplotlib.pyplot as plt\n",
    "import seaborn as sb\n",
    "import matplotlib.dates as mdates\n",
    "import datetime\n",
    "import pytz \n",
    "import numpy as np\n",
    "from sqlalchemy import create_engine"
   ]
  },
  {
   "cell_type": "markdown",
   "metadata": {},
   "source": [
    "## Exploratory data analysis"
   ]
  },
  {
   "cell_type": "code",
   "execution_count": 2,
   "metadata": {},
   "outputs": [],
   "source": [
    "# read the dataset\n",
    "df=pd.read_csv('CoineBase/coinbaseUSD_1-min_data_2014-12-01_to_2018-11-11.csv')"
   ]
  },
  {
   "cell_type": "code",
   "execution_count": 3,
   "metadata": {},
   "outputs": [
    {
     "data": {
      "text/html": [
       "<div>\n",
       "<style scoped>\n",
       "    .dataframe tbody tr th:only-of-type {\n",
       "        vertical-align: middle;\n",
       "    }\n",
       "\n",
       "    .dataframe tbody tr th {\n",
       "        vertical-align: top;\n",
       "    }\n",
       "\n",
       "    .dataframe thead th {\n",
       "        text-align: right;\n",
       "    }\n",
       "</style>\n",
       "<table border=\"1\" class=\"dataframe\">\n",
       "  <thead>\n",
       "    <tr style=\"text-align: right;\">\n",
       "      <th></th>\n",
       "      <th>Timestamp</th>\n",
       "      <th>Open</th>\n",
       "      <th>High</th>\n",
       "      <th>Low</th>\n",
       "      <th>Close</th>\n",
       "      <th>Volume_(BTC)</th>\n",
       "      <th>Volume_(Currency)</th>\n",
       "      <th>Weighted_Price</th>\n",
       "    </tr>\n",
       "  </thead>\n",
       "  <tbody>\n",
       "    <tr>\n",
       "      <th>0</th>\n",
       "      <td>1417411980</td>\n",
       "      <td>300.0</td>\n",
       "      <td>300.0</td>\n",
       "      <td>300.0</td>\n",
       "      <td>300.0</td>\n",
       "      <td>0.01</td>\n",
       "      <td>3.0</td>\n",
       "      <td>300.0</td>\n",
       "    </tr>\n",
       "    <tr>\n",
       "      <th>1</th>\n",
       "      <td>1417412040</td>\n",
       "      <td>NaN</td>\n",
       "      <td>NaN</td>\n",
       "      <td>NaN</td>\n",
       "      <td>NaN</td>\n",
       "      <td>NaN</td>\n",
       "      <td>NaN</td>\n",
       "      <td>NaN</td>\n",
       "    </tr>\n",
       "    <tr>\n",
       "      <th>2</th>\n",
       "      <td>1417412100</td>\n",
       "      <td>NaN</td>\n",
       "      <td>NaN</td>\n",
       "      <td>NaN</td>\n",
       "      <td>NaN</td>\n",
       "      <td>NaN</td>\n",
       "      <td>NaN</td>\n",
       "      <td>NaN</td>\n",
       "    </tr>\n",
       "    <tr>\n",
       "      <th>3</th>\n",
       "      <td>1417412160</td>\n",
       "      <td>NaN</td>\n",
       "      <td>NaN</td>\n",
       "      <td>NaN</td>\n",
       "      <td>NaN</td>\n",
       "      <td>NaN</td>\n",
       "      <td>NaN</td>\n",
       "      <td>NaN</td>\n",
       "    </tr>\n",
       "    <tr>\n",
       "      <th>4</th>\n",
       "      <td>1417412220</td>\n",
       "      <td>NaN</td>\n",
       "      <td>NaN</td>\n",
       "      <td>NaN</td>\n",
       "      <td>NaN</td>\n",
       "      <td>NaN</td>\n",
       "      <td>NaN</td>\n",
       "      <td>NaN</td>\n",
       "    </tr>\n",
       "  </tbody>\n",
       "</table>\n",
       "</div>"
      ],
      "text/plain": [
       "    Timestamp   Open   High    Low  Close  Volume_(BTC)  Volume_(Currency)  \\\n",
       "0  1417411980  300.0  300.0  300.0  300.0          0.01                3.0   \n",
       "1  1417412040    NaN    NaN    NaN    NaN           NaN                NaN   \n",
       "2  1417412100    NaN    NaN    NaN    NaN           NaN                NaN   \n",
       "3  1417412160    NaN    NaN    NaN    NaN           NaN                NaN   \n",
       "4  1417412220    NaN    NaN    NaN    NaN           NaN                NaN   \n",
       "\n",
       "   Weighted_Price  \n",
       "0           300.0  \n",
       "1             NaN  \n",
       "2             NaN  \n",
       "3             NaN  \n",
       "4             NaN  "
      ]
     },
     "execution_count": 3,
     "metadata": {},
     "output_type": "execute_result"
    }
   ],
   "source": [
    "# print the head of the dataset\n",
    "df.head()"
   ]
  },
  {
   "cell_type": "code",
   "execution_count": 4,
   "metadata": {},
   "outputs": [
    {
     "name": "stdout",
     "output_type": "stream",
     "text": [
      "<class 'pandas.core.frame.DataFrame'>\n",
      "RangeIndex: 2016354 entries, 0 to 2016353\n",
      "Data columns (total 8 columns):\n",
      " #   Column             Dtype  \n",
      "---  ------             -----  \n",
      " 0   Timestamp          int64  \n",
      " 1   Open               float64\n",
      " 2   High               float64\n",
      " 3   Low                float64\n",
      " 4   Close              float64\n",
      " 5   Volume_(BTC)       float64\n",
      " 6   Volume_(Currency)  float64\n",
      " 7   Weighted_Price     float64\n",
      "dtypes: float64(7), int64(1)\n",
      "memory usage: 123.1 MB\n"
     ]
    }
   ],
   "source": [
    "# print df info\n",
    "df.info()"
   ]
  },
  {
   "cell_type": "code",
   "execution_count": 5,
   "metadata": {},
   "outputs": [
    {
     "data": {
      "text/html": [
       "<div>\n",
       "<style scoped>\n",
       "    .dataframe tbody tr th:only-of-type {\n",
       "        vertical-align: middle;\n",
       "    }\n",
       "\n",
       "    .dataframe tbody tr th {\n",
       "        vertical-align: top;\n",
       "    }\n",
       "\n",
       "    .dataframe thead th {\n",
       "        text-align: right;\n",
       "    }\n",
       "</style>\n",
       "<table border=\"1\" class=\"dataframe\">\n",
       "  <thead>\n",
       "    <tr style=\"text-align: right;\">\n",
       "      <th></th>\n",
       "      <th>Timestamp</th>\n",
       "      <th>Open</th>\n",
       "      <th>High</th>\n",
       "      <th>Low</th>\n",
       "      <th>Close</th>\n",
       "      <th>Volume_(BTC)</th>\n",
       "      <th>Volume_(Currency)</th>\n",
       "      <th>Weighted_Price</th>\n",
       "    </tr>\n",
       "  </thead>\n",
       "  <tbody>\n",
       "    <tr>\n",
       "      <th>count</th>\n",
       "      <td>2.016354e+06</td>\n",
       "      <td>1.907397e+06</td>\n",
       "      <td>1.907397e+06</td>\n",
       "      <td>1.907397e+06</td>\n",
       "      <td>1.907397e+06</td>\n",
       "      <td>1.907397e+06</td>\n",
       "      <td>1.907397e+06</td>\n",
       "      <td>1.907397e+06</td>\n",
       "    </tr>\n",
       "    <tr>\n",
       "      <th>mean</th>\n",
       "      <td>1.481396e+09</td>\n",
       "      <td>3.208583e+03</td>\n",
       "      <td>3.209990e+03</td>\n",
       "      <td>3.207058e+03</td>\n",
       "      <td>3.208584e+03</td>\n",
       "      <td>7.684054e+00</td>\n",
       "      <td>3.551276e+04</td>\n",
       "      <td>3.208523e+03</td>\n",
       "    </tr>\n",
       "    <tr>\n",
       "      <th>std</th>\n",
       "      <td>3.493807e+07</td>\n",
       "      <td>3.873144e+03</td>\n",
       "      <td>3.875432e+03</td>\n",
       "      <td>3.870698e+03</td>\n",
       "      <td>3.873140e+03</td>\n",
       "      <td>1.820454e+01</td>\n",
       "      <td>1.411277e+05</td>\n",
       "      <td>3.873066e+03</td>\n",
       "    </tr>\n",
       "    <tr>\n",
       "      <th>min</th>\n",
       "      <td>1.417412e+09</td>\n",
       "      <td>6.000000e-02</td>\n",
       "      <td>6.000000e-02</td>\n",
       "      <td>6.000000e-02</td>\n",
       "      <td>6.000000e-02</td>\n",
       "      <td>1.000000e-08</td>\n",
       "      <td>2.641700e-06</td>\n",
       "      <td>6.000000e-02</td>\n",
       "    </tr>\n",
       "    <tr>\n",
       "      <th>25%</th>\n",
       "      <td>1.451159e+09</td>\n",
       "      <td>4.156000e+02</td>\n",
       "      <td>4.156800e+02</td>\n",
       "      <td>4.155000e+02</td>\n",
       "      <td>4.155900e+02</td>\n",
       "      <td>8.776600e-01</td>\n",
       "      <td>5.962574e+02</td>\n",
       "      <td>4.155902e+02</td>\n",
       "    </tr>\n",
       "    <tr>\n",
       "      <th>50%</th>\n",
       "      <td>1.481404e+09</td>\n",
       "      <td>9.099600e+02</td>\n",
       "      <td>9.101000e+02</td>\n",
       "      <td>9.095700e+02</td>\n",
       "      <td>9.099800e+02</td>\n",
       "      <td>2.641103e+00</td>\n",
       "      <td>3.313449e+03</td>\n",
       "      <td>9.099194e+02</td>\n",
       "    </tr>\n",
       "    <tr>\n",
       "      <th>75%</th>\n",
       "      <td>1.511649e+09</td>\n",
       "      <td>6.374660e+03</td>\n",
       "      <td>6.375150e+03</td>\n",
       "      <td>6.373310e+03</td>\n",
       "      <td>6.374670e+03</td>\n",
       "      <td>7.478157e+00</td>\n",
       "      <td>1.855195e+04</td>\n",
       "      <td>6.374404e+03</td>\n",
       "    </tr>\n",
       "    <tr>\n",
       "      <th>max</th>\n",
       "      <td>1.541894e+09</td>\n",
       "      <td>1.989199e+04</td>\n",
       "      <td>1.989199e+04</td>\n",
       "      <td>1.989198e+04</td>\n",
       "      <td>1.989199e+04</td>\n",
       "      <td>1.563267e+03</td>\n",
       "      <td>1.997076e+07</td>\n",
       "      <td>1.989199e+04</td>\n",
       "    </tr>\n",
       "  </tbody>\n",
       "</table>\n",
       "</div>"
      ],
      "text/plain": [
       "          Timestamp          Open          High           Low         Close  \\\n",
       "count  2.016354e+06  1.907397e+06  1.907397e+06  1.907397e+06  1.907397e+06   \n",
       "mean   1.481396e+09  3.208583e+03  3.209990e+03  3.207058e+03  3.208584e+03   \n",
       "std    3.493807e+07  3.873144e+03  3.875432e+03  3.870698e+03  3.873140e+03   \n",
       "min    1.417412e+09  6.000000e-02  6.000000e-02  6.000000e-02  6.000000e-02   \n",
       "25%    1.451159e+09  4.156000e+02  4.156800e+02  4.155000e+02  4.155900e+02   \n",
       "50%    1.481404e+09  9.099600e+02  9.101000e+02  9.095700e+02  9.099800e+02   \n",
       "75%    1.511649e+09  6.374660e+03  6.375150e+03  6.373310e+03  6.374670e+03   \n",
       "max    1.541894e+09  1.989199e+04  1.989199e+04  1.989198e+04  1.989199e+04   \n",
       "\n",
       "       Volume_(BTC)  Volume_(Currency)  Weighted_Price  \n",
       "count  1.907397e+06       1.907397e+06    1.907397e+06  \n",
       "mean   7.684054e+00       3.551276e+04    3.208523e+03  \n",
       "std    1.820454e+01       1.411277e+05    3.873066e+03  \n",
       "min    1.000000e-08       2.641700e-06    6.000000e-02  \n",
       "25%    8.776600e-01       5.962574e+02    4.155902e+02  \n",
       "50%    2.641103e+00       3.313449e+03    9.099194e+02  \n",
       "75%    7.478157e+00       1.855195e+04    6.374404e+03  \n",
       "max    1.563267e+03       1.997076e+07    1.989199e+04  "
      ]
     },
     "execution_count": 5,
     "metadata": {},
     "output_type": "execute_result"
    }
   ],
   "source": [
    "# print df describe\n",
    "df.describe()"
   ]
  },
  {
   "cell_type": "code",
   "execution_count": 6,
   "metadata": {},
   "outputs": [
    {
     "data": {
      "text/plain": [
       "array([[<matplotlib.axes._subplots.AxesSubplot object at 0x000002E86B9FB188>,\n",
       "        <matplotlib.axes._subplots.AxesSubplot object at 0x000002E86B9D9CC8>,\n",
       "        <matplotlib.axes._subplots.AxesSubplot object at 0x000002E86D0A3248>],\n",
       "       [<matplotlib.axes._subplots.AxesSubplot object at 0x000002E86D0D0F88>,\n",
       "        <matplotlib.axes._subplots.AxesSubplot object at 0x000002E86D105D08>,\n",
       "        <matplotlib.axes._subplots.AxesSubplot object at 0x000002E86D143508>],\n",
       "       [<matplotlib.axes._subplots.AxesSubplot object at 0x000002E86D17B648>,\n",
       "        <matplotlib.axes._subplots.AxesSubplot object at 0x000002E86D1B2748>,\n",
       "        <matplotlib.axes._subplots.AxesSubplot object at 0x000002E86D1EB808>]],\n",
       "      dtype=object)"
      ]
     },
     "execution_count": 6,
     "metadata": {},
     "output_type": "execute_result"
    },
    {
     "data": {
      "image/png": "[encoded data removed]",
      "text/plain": [
       "<Figure size 432x288 with 9 Axes>"
      ]
     },
     "metadata": {
      "needs_background": "light"
     },
     "output_type": "display_data"
    }
   ],
   "source": [
    "# visualize the data set\n",
    "df.hist()"
   ]
  },
  {
   "cell_type": "code",
   "execution_count": 7,
   "metadata": {},
   "outputs": [
    {
     "data": {
      "text/plain": [
       "Timestamp            False\n",
       "Open                  True\n",
       "High                  True\n",
       "Low                   True\n",
       "Close                 True\n",
       "Volume_(BTC)          True\n",
       "Volume_(Currency)     True\n",
       "Weighted_Price        True\n",
       "dtype: bool"
      ]
     },
     "execution_count": 7,
     "metadata": {},
     "output_type": "execute_result"
    }
   ],
   "source": [
    "# check missing values\n",
    "df.isnull().any()"
   ]
  },
  {
   "cell_type": "code",
   "execution_count": 8,
   "metadata": {},
   "outputs": [
    {
     "data": {
      "text/plain": [
       "Timestamp                 0\n",
       "Open                 108957\n",
       "High                 108957\n",
       "Low                  108957\n",
       "Close                108957\n",
       "Volume_(BTC)         108957\n",
       "Volume_(Currency)    108957\n",
       "Weighted_Price       108957\n",
       "dtype: int64"
      ]
     },
     "execution_count": 8,
     "metadata": {},
     "output_type": "execute_result"
    }
   ],
   "source": [
    "# check sum of missing values\n",
    "df.isnull().sum()"
   ]
  },
  {
   "cell_type": "code",
   "execution_count": 9,
   "metadata": {},
   "outputs": [
    {
     "data": {
      "text/plain": [
       "(2016354, 8)"
      ]
     },
     "execution_count": 9,
     "metadata": {},
     "output_type": "execute_result"
    }
   ],
   "source": [
    "# shape of the dataframe\n",
    "df.shape"
   ]
  },
  {
   "cell_type": "code",
   "execution_count": 10,
   "metadata": {},
   "outputs": [
    {
     "data": {
      "text/plain": [
       "0"
      ]
     },
     "execution_count": 10,
     "metadata": {},
     "output_type": "execute_result"
    }
   ],
   "source": [
    "# check  duplicates\n",
    "df.duplicated().sum()"
   ]
  },
  {
   "cell_type": "markdown",
   "metadata": {},
   "source": [
    "## Data Cleaning"
   ]
  },
  {
   "cell_type": "code",
   "execution_count": 11,
   "metadata": {},
   "outputs": [
    {
     "data": {
      "text/html": [
       "<div>\n",
       "<style scoped>\n",
       "    .dataframe tbody tr th:only-of-type {\n",
       "        vertical-align: middle;\n",
       "    }\n",
       "\n",
       "    .dataframe tbody tr th {\n",
       "        vertical-align: top;\n",
       "    }\n",
       "\n",
       "    .dataframe thead th {\n",
       "        text-align: right;\n",
       "    }\n",
       "</style>\n",
       "<table border=\"1\" class=\"dataframe\">\n",
       "  <thead>\n",
       "    <tr style=\"text-align: right;\">\n",
       "      <th></th>\n",
       "      <th>Timestamp</th>\n",
       "      <th>Open</th>\n",
       "      <th>High</th>\n",
       "      <th>Low</th>\n",
       "      <th>Close</th>\n",
       "      <th>Volume_(BTC)</th>\n",
       "      <th>Volume_(Currency)</th>\n",
       "      <th>Weighted_Price</th>\n",
       "    </tr>\n",
       "  </thead>\n",
       "  <tbody>\n",
       "    <tr>\n",
       "      <th>0</th>\n",
       "      <td>1417411980</td>\n",
       "      <td>300.0</td>\n",
       "      <td>300.0</td>\n",
       "      <td>300.0</td>\n",
       "      <td>300.0</td>\n",
       "      <td>0.01</td>\n",
       "      <td>3.0</td>\n",
       "      <td>300.0</td>\n",
       "    </tr>\n",
       "    <tr>\n",
       "      <th>1</th>\n",
       "      <td>1417412040</td>\n",
       "      <td>300.0</td>\n",
       "      <td>300.0</td>\n",
       "      <td>300.0</td>\n",
       "      <td>300.0</td>\n",
       "      <td>0.00</td>\n",
       "      <td>0.0</td>\n",
       "      <td>0.0</td>\n",
       "    </tr>\n",
       "    <tr>\n",
       "      <th>2</th>\n",
       "      <td>1417412100</td>\n",
       "      <td>300.0</td>\n",
       "      <td>300.0</td>\n",
       "      <td>300.0</td>\n",
       "      <td>300.0</td>\n",
       "      <td>0.00</td>\n",
       "      <td>0.0</td>\n",
       "      <td>0.0</td>\n",
       "    </tr>\n",
       "    <tr>\n",
       "      <th>3</th>\n",
       "      <td>1417412160</td>\n",
       "      <td>300.0</td>\n",
       "      <td>300.0</td>\n",
       "      <td>300.0</td>\n",
       "      <td>300.0</td>\n",
       "      <td>0.00</td>\n",
       "      <td>0.0</td>\n",
       "      <td>0.0</td>\n",
       "    </tr>\n",
       "    <tr>\n",
       "      <th>4</th>\n",
       "      <td>1417412220</td>\n",
       "      <td>300.0</td>\n",
       "      <td>300.0</td>\n",
       "      <td>300.0</td>\n",
       "      <td>300.0</td>\n",
       "      <td>0.00</td>\n",
       "      <td>0.0</td>\n",
       "      <td>0.0</td>\n",
       "    </tr>\n",
       "  </tbody>\n",
       "</table>\n",
       "</div>"
      ],
      "text/plain": [
       "    Timestamp   Open   High    Low  Close  Volume_(BTC)  Volume_(Currency)  \\\n",
       "0  1417411980  300.0  300.0  300.0  300.0          0.01                3.0   \n",
       "1  1417412040  300.0  300.0  300.0  300.0          0.00                0.0   \n",
       "2  1417412100  300.0  300.0  300.0  300.0          0.00                0.0   \n",
       "3  1417412160  300.0  300.0  300.0  300.0          0.00                0.0   \n",
       "4  1417412220  300.0  300.0  300.0  300.0          0.00                0.0   \n",
       "\n",
       "   Weighted_Price  \n",
       "0           300.0  \n",
       "1             0.0  \n",
       "2             0.0  \n",
       "3             0.0  \n",
       "4             0.0  "
      ]
     },
     "execution_count": 11,
     "metadata": {},
     "output_type": "execute_result"
    }
   ],
   "source": [
    "# fill missing value \n",
    "df['Volume_(BTC)']=df['Volume_(BTC)'].fillna(value=0)\n",
    "df['Volume_(Currency)']=df['Volume_(Currency)'].fillna(value=0)\n",
    "df['Weighted_Price']=df['Weighted_Price'].fillna(value=0)\n",
    "\n",
    "df['Open']=df['Open'].fillna(method='ffill')\n",
    "df['High']=df['High'].fillna(method='ffill')\n",
    "df['Low']=df['Low'].fillna(method='ffill')\n",
    "df['Close']=df['Close'].fillna(method='ffill')\n",
    "df.head()"
   ]
  },
  {
   "cell_type": "code",
   "execution_count": 12,
   "metadata": {},
   "outputs": [
    {
     "data": {
      "text/plain": [
       "Timestamp            False\n",
       "Open                 False\n",
       "High                 False\n",
       "Low                  False\n",
       "Close                False\n",
       "Volume_(BTC)         False\n",
       "Volume_(Currency)    False\n",
       "Weighted_Price       False\n",
       "dtype: bool"
      ]
     },
     "execution_count": 12,
     "metadata": {},
     "output_type": "execute_result"
    }
   ],
   "source": [
    "# check null values\n",
    "df.isnull().any()"
   ]
  },
  {
   "cell_type": "code",
   "execution_count": 13,
   "metadata": {},
   "outputs": [
    {
     "data": {
      "text/html": [
       "<div>\n",
       "<style scoped>\n",
       "    .dataframe tbody tr th:only-of-type {\n",
       "        vertical-align: middle;\n",
       "    }\n",
       "\n",
       "    .dataframe tbody tr th {\n",
       "        vertical-align: top;\n",
       "    }\n",
       "\n",
       "    .dataframe thead th {\n",
       "        text-align: right;\n",
       "    }\n",
       "</style>\n",
       "<table border=\"1\" class=\"dataframe\">\n",
       "  <thead>\n",
       "    <tr style=\"text-align: right;\">\n",
       "      <th></th>\n",
       "      <th>Timestamp</th>\n",
       "      <th>Open</th>\n",
       "      <th>High</th>\n",
       "      <th>Low</th>\n",
       "      <th>Close</th>\n",
       "      <th>Volume_(BTC)</th>\n",
       "      <th>Volume_(Currency)</th>\n",
       "      <th>Weighted_Price</th>\n",
       "    </tr>\n",
       "  </thead>\n",
       "  <tbody>\n",
       "    <tr>\n",
       "      <th>0</th>\n",
       "      <td>2014-12-01 05:33:00</td>\n",
       "      <td>300.0</td>\n",
       "      <td>300.0</td>\n",
       "      <td>300.0</td>\n",
       "      <td>300.0</td>\n",
       "      <td>0.01</td>\n",
       "      <td>3.0</td>\n",
       "      <td>300.0</td>\n",
       "    </tr>\n",
       "    <tr>\n",
       "      <th>1</th>\n",
       "      <td>2014-12-01 05:34:00</td>\n",
       "      <td>300.0</td>\n",
       "      <td>300.0</td>\n",
       "      <td>300.0</td>\n",
       "      <td>300.0</td>\n",
       "      <td>0.00</td>\n",
       "      <td>0.0</td>\n",
       "      <td>0.0</td>\n",
       "    </tr>\n",
       "    <tr>\n",
       "      <th>2</th>\n",
       "      <td>2014-12-01 05:35:00</td>\n",
       "      <td>300.0</td>\n",
       "      <td>300.0</td>\n",
       "      <td>300.0</td>\n",
       "      <td>300.0</td>\n",
       "      <td>0.00</td>\n",
       "      <td>0.0</td>\n",
       "      <td>0.0</td>\n",
       "    </tr>\n",
       "    <tr>\n",
       "      <th>3</th>\n",
       "      <td>2014-12-01 05:36:00</td>\n",
       "      <td>300.0</td>\n",
       "      <td>300.0</td>\n",
       "      <td>300.0</td>\n",
       "      <td>300.0</td>\n",
       "      <td>0.00</td>\n",
       "      <td>0.0</td>\n",
       "      <td>0.0</td>\n",
       "    </tr>\n",
       "    <tr>\n",
       "      <th>4</th>\n",
       "      <td>2014-12-01 05:37:00</td>\n",
       "      <td>300.0</td>\n",
       "      <td>300.0</td>\n",
       "      <td>300.0</td>\n",
       "      <td>300.0</td>\n",
       "      <td>0.00</td>\n",
       "      <td>0.0</td>\n",
       "      <td>0.0</td>\n",
       "    </tr>\n",
       "  </tbody>\n",
       "</table>\n",
       "</div>"
      ],
      "text/plain": [
       "            Timestamp   Open   High    Low  Close  Volume_(BTC)  \\\n",
       "0 2014-12-01 05:33:00  300.0  300.0  300.0  300.0          0.01   \n",
       "1 2014-12-01 05:34:00  300.0  300.0  300.0  300.0          0.00   \n",
       "2 2014-12-01 05:35:00  300.0  300.0  300.0  300.0          0.00   \n",
       "3 2014-12-01 05:36:00  300.0  300.0  300.0  300.0          0.00   \n",
       "4 2014-12-01 05:37:00  300.0  300.0  300.0  300.0          0.00   \n",
       "\n",
       "   Volume_(Currency)  Weighted_Price  \n",
       "0                3.0           300.0  \n",
       "1                0.0             0.0  \n",
       "2                0.0             0.0  \n",
       "3                0.0             0.0  \n",
       "4                0.0             0.0  "
      ]
     },
     "execution_count": 13,
     "metadata": {},
     "output_type": "execute_result"
    }
   ],
   "source": [
    "# convert the timestamp column to datetime\n",
    "df['Timestamp'] = pd.to_datetime(df['Timestamp'], unit='s')\n",
    "df.head()"
   ]
  },
  {
   "cell_type": "code",
   "execution_count": 14,
   "metadata": {},
   "outputs": [
    {
     "name": "stdout",
     "output_type": "stream",
     "text": [
      "<class 'pandas.core.frame.DataFrame'>\n",
      "RangeIndex: 2016354 entries, 0 to 2016353\n",
      "Data columns (total 8 columns):\n",
      " #   Column             Dtype         \n",
      "---  ------             -----         \n",
      " 0   Timestamp          datetime64[ns]\n",
      " 1   Open               float64       \n",
      " 2   High               float64       \n",
      " 3   Low                float64       \n",
      " 4   Close              float64       \n",
      " 5   Volume_(BTC)       float64       \n",
      " 6   Volume_(Currency)  float64       \n",
      " 7   Weighted_Price     float64       \n",
      "dtypes: datetime64[ns](1), float64(7)\n",
      "memory usage: 123.1 MB\n"
     ]
    }
   ],
   "source": [
    "# check the data type \n",
    "df.info()"
   ]
  },
  {
   "cell_type": "markdown",
   "metadata": {},
   "source": [
    "## Data visualization"
   ]
  },
  {
   "cell_type": "code",
   "execution_count": 15,
   "metadata": {},
   "outputs": [
    {
     "data": {
      "text/plain": [
       "array([[<matplotlib.axes._subplots.AxesSubplot object at 0x000002E806D3AFC8>,\n",
       "        <matplotlib.axes._subplots.AxesSubplot object at 0x000002E806D9DC88>,\n",
       "        <matplotlib.axes._subplots.AxesSubplot object at 0x000002E806DC5708>],\n",
       "       [<matplotlib.axes._subplots.AxesSubplot object at 0x000002E80F8A0148>,\n",
       "        <matplotlib.axes._subplots.AxesSubplot object at 0x000002E80F8D5B08>,\n",
       "        <matplotlib.axes._subplots.AxesSubplot object at 0x000002E80F9104C8>],\n",
       "       [<matplotlib.axes._subplots.AxesSubplot object at 0x000002E80F9370C8>,\n",
       "        <matplotlib.axes._subplots.AxesSubplot object at 0x000002E80F9611C8>,\n",
       "        <matplotlib.axes._subplots.AxesSubplot object at 0x000002E80F99A308>]],\n",
       "      dtype=object)"
      ]
     },
     "execution_count": 15,
     "metadata": {},
     "output_type": "execute_result"
    },
    {
     "data": {
      "image/png": "[encoded data removed]",
      "text/plain": [
       "<Figure size 432x288 with 9 Axes>"
      ]
     },
     "metadata": {
      "needs_background": "light"
     },
     "output_type": "display_data"
    }
   ],
   "source": [
    "# hist graphs\n",
    "df.hist()"
   ]
  },
  {
   "cell_type": "code",
   "execution_count": 16,
   "metadata": {},
   "outputs": [
    {
     "data": {
      "text/plain": [
       "Text(0.5, 1.0, 'Timestamp vs Weighted_Price')"
      ]
     },
     "execution_count": 16,
     "metadata": {},
     "output_type": "execute_result"
    },
    {
     "data": {
      "image/png": "[encoded data removed]",
      "text/plain": [
       "<Figure size 1296x360 with 5 Axes>"
      ]
     },
     "metadata": {
      "needs_background": "light"
     },
     "output_type": "display_data"
    }
   ],
   "source": [
    "# figure size\n",
    "plt.figure(figsize = [18, 5])\n",
    "\n",
    "# open plot\n",
    "plt.subplot(2, 3, 1)\n",
    "plt.scatter(df.Timestamp,df.Open)\n",
    "# beautify the x-labels\n",
    "plt.gcf().autofmt_xdate()\n",
    "plt.xlabel('Timestamp')\n",
    "plt.ylabel('Open')\n",
    "plt.title('Timestamp vs open')\n",
    "\n",
    "# High plot\n",
    "plt.subplot(2, 3, 2)\n",
    "plt.scatter(df.Timestamp,df.High)\n",
    "# beautify the x-labels\n",
    "plt.gcf().autofmt_xdate()\n",
    "plt.xlabel('Timestamp')\n",
    "plt.ylabel('High')\n",
    "plt.title('Timestamp vs High')\n",
    "\n",
    "# Low plot\n",
    "plt.subplot(2, 3, 3)\n",
    "plt.scatter(df.Timestamp,df.Low)\n",
    "# beautify the x-labels\n",
    "plt.gcf().autofmt_xdate()\n",
    "plt.xlabel('Timestamp')\n",
    "plt.ylabel('Low')\n",
    "plt.title('Timestamp vs Low')\n",
    "\n",
    "# Close plot\n",
    "plt.subplot(2, 3, 4)\n",
    "plt.scatter(df.Timestamp,df.Close)\n",
    "# beautify the x-labels\n",
    "plt.gcf().autofmt_xdate()\n",
    "plt.xlabel('Timestamp')\n",
    "plt.ylabel('Close')\n",
    "plt.title('Timestamp vs Close')\n",
    "\n",
    "\n",
    "# Weighted_Price plot\n",
    "plt.subplot(2, 3, 5)\n",
    "plt.scatter(df.Timestamp,df.Weighted_Price)\n",
    "# beautify the x-labels\n",
    "plt.gcf().autofmt_xdate()\n",
    "plt.xlabel('Timestamp')\n",
    "plt.ylabel('Weighted_Price')\n",
    "plt.title('Timestamp vs Weighted_Price')\n",
    "\n",
    "\n"
   ]
  },
  {
   "cell_type": "markdown",
   "metadata": {},
   "source": [
    "## Data preprocessing"
   ]
  },
  {
   "cell_type": "code",
   "execution_count": 30,
   "metadata": {},
   "outputs": [
    {
     "data": {
      "text/html": [
       "<div>\n",
       "<style scoped>\n",
       "    .dataframe tbody tr th:only-of-type {\n",
       "        vertical-align: middle;\n",
       "    }\n",
       "\n",
       "    .dataframe tbody tr th {\n",
       "        vertical-align: top;\n",
       "    }\n",
       "\n",
       "    .dataframe thead th {\n",
       "        text-align: right;\n",
       "    }\n",
       "</style>\n",
       "<table border=\"1\" class=\"dataframe\">\n",
       "  <thead>\n",
       "    <tr style=\"text-align: right;\">\n",
       "      <th></th>\n",
       "      <th>Timestamp</th>\n",
       "      <th>Open</th>\n",
       "      <th>High</th>\n",
       "      <th>Low</th>\n",
       "      <th>Close</th>\n",
       "      <th>Volume_(BTC)</th>\n",
       "      <th>Volume_(Currency)</th>\n",
       "      <th>Weighted_Price</th>\n",
       "    </tr>\n",
       "  </thead>\n",
       "  <tbody>\n",
       "    <tr>\n",
       "      <th>0</th>\n",
       "      <td>2014-12-01</td>\n",
       "      <td>300.0</td>\n",
       "      <td>300.0</td>\n",
       "      <td>300.0</td>\n",
       "      <td>300.0</td>\n",
       "      <td>0.01</td>\n",
       "      <td>3.00</td>\n",
       "      <td>300.0</td>\n",
       "    </tr>\n",
       "    <tr>\n",
       "      <th>1</th>\n",
       "      <td>2014-12-08</td>\n",
       "      <td>370.0</td>\n",
       "      <td>370.0</td>\n",
       "      <td>370.0</td>\n",
       "      <td>370.0</td>\n",
       "      <td>0.00</td>\n",
       "      <td>0.00</td>\n",
       "      <td>0.0</td>\n",
       "    </tr>\n",
       "    <tr>\n",
       "      <th>2</th>\n",
       "      <td>2014-12-15</td>\n",
       "      <td>398.0</td>\n",
       "      <td>398.0</td>\n",
       "      <td>398.0</td>\n",
       "      <td>398.0</td>\n",
       "      <td>0.01</td>\n",
       "      <td>3.98</td>\n",
       "      <td>398.0</td>\n",
       "    </tr>\n",
       "    <tr>\n",
       "      <th>3</th>\n",
       "      <td>2014-12-22</td>\n",
       "      <td>345.0</td>\n",
       "      <td>345.0</td>\n",
       "      <td>340.0</td>\n",
       "      <td>340.0</td>\n",
       "      <td>2.00</td>\n",
       "      <td>685.00</td>\n",
       "      <td>342.5</td>\n",
       "    </tr>\n",
       "    <tr>\n",
       "      <th>4</th>\n",
       "      <td>2014-12-29</td>\n",
       "      <td>NaN</td>\n",
       "      <td>NaN</td>\n",
       "      <td>NaN</td>\n",
       "      <td>NaN</td>\n",
       "      <td>NaN</td>\n",
       "      <td>NaN</td>\n",
       "      <td>NaN</td>\n",
       "    </tr>\n",
       "  </tbody>\n",
       "</table>\n",
       "</div>"
      ],
      "text/plain": [
       "   Timestamp   Open   High    Low  Close  Volume_(BTC)  Volume_(Currency)  \\\n",
       "0 2014-12-01  300.0  300.0  300.0  300.0          0.01               3.00   \n",
       "1 2014-12-08  370.0  370.0  370.0  370.0          0.00               0.00   \n",
       "2 2014-12-15  398.0  398.0  398.0  398.0          0.01               3.98   \n",
       "3 2014-12-22  345.0  345.0  340.0  340.0          2.00             685.00   \n",
       "4 2014-12-29    NaN    NaN    NaN    NaN           NaN                NaN   \n",
       "\n",
       "   Weighted_Price  \n",
       "0           300.0  \n",
       "1             0.0  \n",
       "2           398.0  \n",
       "3           342.5  \n",
       "4             NaN  "
      ]
     },
     "execution_count": 30,
     "metadata": {},
     "output_type": "execute_result"
    }
   ],
   "source": [
    "# group the data by week\n",
    "\n",
    "#create start and end date range\n",
    "start = datetime.datetime(2014, 12, 1, 0, 0, 0, 0)\n",
    "end = datetime.datetime(2018, 11, 11, 0, 0, 0, 0)\n",
    "\n",
    "weekly_data=df[(df['Timestamp']>=start) & (df['Timestamp']<=end)].groupby([pd.Grouper(key='Timestamp', freq='W-MON')]).first().reset_index()\n",
    "\n",
    "weekly_data.head()"
   ]
  },
  {
   "cell_type": "code",
   "execution_count": 32,
   "metadata": {},
   "outputs": [
    {
     "data": {
      "text/plain": [
       "(207, 8)"
      ]
     },
     "execution_count": 32,
     "metadata": {},
     "output_type": "execute_result"
    }
   ],
   "source": [
    "# print the shape\n",
    "weekly_data.shape"
   ]
  },
  {
   "cell_type": "code",
   "execution_count": 34,
   "metadata": {},
   "outputs": [
    {
     "data": {
      "text/plain": [
       "7"
      ]
     },
     "execution_count": 34,
     "metadata": {},
     "output_type": "execute_result"
    }
   ],
   "source": [
    "# check null values\n",
    "weekly_data.isnull().any().sum()"
   ]
  },
  {
   "cell_type": "code",
   "execution_count": 35,
   "metadata": {},
   "outputs": [],
   "source": [
    "# drop null values\n",
    "weekly_data.dropna(inplace=True)"
   ]
  },
  {
   "cell_type": "code",
   "execution_count": 36,
   "metadata": {},
   "outputs": [
    {
     "data": {
      "text/plain": [
       "0"
      ]
     },
     "execution_count": 36,
     "metadata": {},
     "output_type": "execute_result"
    }
   ],
   "source": [
    "# check null values\n",
    "weekly_data.isnull().any().sum()"
   ]
  },
  {
   "cell_type": "code",
   "execution_count": 37,
   "metadata": {},
   "outputs": [
    {
     "data": {
      "text/plain": [
       "(205, 8)"
      ]
     },
     "execution_count": 37,
     "metadata": {},
     "output_type": "execute_result"
    }
   ],
   "source": [
    "# print the shape\n",
    "weekly_data.shape"
   ]
  },
  {
   "cell_type": "code",
   "execution_count": 45,
   "metadata": {},
   "outputs": [
    {
     "data": {
      "text/html": [
       "<div>\n",
       "<style scoped>\n",
       "    .dataframe tbody tr th:only-of-type {\n",
       "        vertical-align: middle;\n",
       "    }\n",
       "\n",
       "    .dataframe tbody tr th {\n",
       "        vertical-align: top;\n",
       "    }\n",
       "\n",
       "    .dataframe thead th {\n",
       "        text-align: right;\n",
       "    }\n",
       "</style>\n",
       "<table border=\"1\" class=\"dataframe\">\n",
       "  <thead>\n",
       "    <tr style=\"text-align: right;\">\n",
       "      <th></th>\n",
       "      <th>Open</th>\n",
       "      <th>High</th>\n",
       "      <th>Low</th>\n",
       "      <th>Close</th>\n",
       "      <th>Volume_(BTC)</th>\n",
       "      <th>Volume_(Currency)</th>\n",
       "      <th>Weighted_Price</th>\n",
       "    </tr>\n",
       "  </thead>\n",
       "  <tbody>\n",
       "    <tr>\n",
       "      <th>0</th>\n",
       "      <td>5.707110</td>\n",
       "      <td>5.707110</td>\n",
       "      <td>5.707110</td>\n",
       "      <td>5.707110</td>\n",
       "      <td>0.009950</td>\n",
       "      <td>1.386294</td>\n",
       "      <td>5.707110</td>\n",
       "    </tr>\n",
       "    <tr>\n",
       "      <th>1</th>\n",
       "      <td>5.916202</td>\n",
       "      <td>5.916202</td>\n",
       "      <td>5.916202</td>\n",
       "      <td>5.916202</td>\n",
       "      <td>0.000000</td>\n",
       "      <td>0.000000</td>\n",
       "      <td>0.000000</td>\n",
       "    </tr>\n",
       "    <tr>\n",
       "      <th>2</th>\n",
       "      <td>5.988961</td>\n",
       "      <td>5.988961</td>\n",
       "      <td>5.988961</td>\n",
       "      <td>5.988961</td>\n",
       "      <td>0.009950</td>\n",
       "      <td>1.605430</td>\n",
       "      <td>5.988961</td>\n",
       "    </tr>\n",
       "    <tr>\n",
       "      <th>3</th>\n",
       "      <td>5.846439</td>\n",
       "      <td>5.846439</td>\n",
       "      <td>5.831882</td>\n",
       "      <td>5.831882</td>\n",
       "      <td>1.098612</td>\n",
       "      <td>6.530878</td>\n",
       "      <td>5.839187</td>\n",
       "    </tr>\n",
       "    <tr>\n",
       "      <th>6</th>\n",
       "      <td>5.888878</td>\n",
       "      <td>5.888878</td>\n",
       "      <td>5.888878</td>\n",
       "      <td>5.888878</td>\n",
       "      <td>0.009950</td>\n",
       "      <td>1.526056</td>\n",
       "      <td>5.888878</td>\n",
       "    </tr>\n",
       "  </tbody>\n",
       "</table>\n",
       "</div>"
      ],
      "text/plain": [
       "       Open      High       Low     Close  Volume_(BTC)  Volume_(Currency)  \\\n",
       "0  5.707110  5.707110  5.707110  5.707110      0.009950           1.386294   \n",
       "1  5.916202  5.916202  5.916202  5.916202      0.000000           0.000000   \n",
       "2  5.988961  5.988961  5.988961  5.988961      0.009950           1.605430   \n",
       "3  5.846439  5.846439  5.831882  5.831882      1.098612           6.530878   \n",
       "6  5.888878  5.888878  5.888878  5.888878      0.009950           1.526056   \n",
       "\n",
       "   Weighted_Price  \n",
       "0        5.707110  \n",
       "1        0.000000  \n",
       "2        5.988961  \n",
       "3        5.839187  \n",
       "6        5.888878  "
      ]
     },
     "execution_count": 45,
     "metadata": {},
     "output_type": "execute_result"
    }
   ],
   "source": [
    "# apply logarithm to the data \n",
    "columns=['Open','High','Low','Close','Volume_(BTC)','Volume_(Currency)','Weighted_Price']\n",
    "lweekly_data=weekly_data[columns].apply(lambda x: np.log(x + 1))\n",
    "lweekly_data.head()"
   ]
  },
  {
   "cell_type": "code",
   "execution_count": 46,
   "metadata": {},
   "outputs": [
    {
     "data": {
      "text/html": [
       "<div>\n",
       "<style scoped>\n",
       "    .dataframe tbody tr th:only-of-type {\n",
       "        vertical-align: middle;\n",
       "    }\n",
       "\n",
       "    .dataframe tbody tr th {\n",
       "        vertical-align: top;\n",
       "    }\n",
       "\n",
       "    .dataframe thead th {\n",
       "        text-align: right;\n",
       "    }\n",
       "</style>\n",
       "<table border=\"1\" class=\"dataframe\">\n",
       "  <thead>\n",
       "    <tr style=\"text-align: right;\">\n",
       "      <th></th>\n",
       "      <th>Open</th>\n",
       "      <th>High</th>\n",
       "      <th>Low</th>\n",
       "      <th>Close</th>\n",
       "      <th>Volume_(BTC)</th>\n",
       "      <th>Volume_(Currency)</th>\n",
       "      <th>Weighted_Price</th>\n",
       "      <th>Timestamp</th>\n",
       "    </tr>\n",
       "  </thead>\n",
       "  <tbody>\n",
       "    <tr>\n",
       "      <th>0</th>\n",
       "      <td>5.707110</td>\n",
       "      <td>5.707110</td>\n",
       "      <td>5.707110</td>\n",
       "      <td>5.707110</td>\n",
       "      <td>0.009950</td>\n",
       "      <td>1.386294</td>\n",
       "      <td>5.707110</td>\n",
       "      <td>2014-12-01</td>\n",
       "    </tr>\n",
       "    <tr>\n",
       "      <th>1</th>\n",
       "      <td>5.916202</td>\n",
       "      <td>5.916202</td>\n",
       "      <td>5.916202</td>\n",
       "      <td>5.916202</td>\n",
       "      <td>0.000000</td>\n",
       "      <td>0.000000</td>\n",
       "      <td>0.000000</td>\n",
       "      <td>2014-12-08</td>\n",
       "    </tr>\n",
       "    <tr>\n",
       "      <th>2</th>\n",
       "      <td>5.988961</td>\n",
       "      <td>5.988961</td>\n",
       "      <td>5.988961</td>\n",
       "      <td>5.988961</td>\n",
       "      <td>0.009950</td>\n",
       "      <td>1.605430</td>\n",
       "      <td>5.988961</td>\n",
       "      <td>2014-12-15</td>\n",
       "    </tr>\n",
       "    <tr>\n",
       "      <th>3</th>\n",
       "      <td>5.846439</td>\n",
       "      <td>5.846439</td>\n",
       "      <td>5.831882</td>\n",
       "      <td>5.831882</td>\n",
       "      <td>1.098612</td>\n",
       "      <td>6.530878</td>\n",
       "      <td>5.839187</td>\n",
       "      <td>2014-12-22</td>\n",
       "    </tr>\n",
       "    <tr>\n",
       "      <th>6</th>\n",
       "      <td>5.888878</td>\n",
       "      <td>5.888878</td>\n",
       "      <td>5.888878</td>\n",
       "      <td>5.888878</td>\n",
       "      <td>0.009950</td>\n",
       "      <td>1.526056</td>\n",
       "      <td>5.888878</td>\n",
       "      <td>2015-01-12</td>\n",
       "    </tr>\n",
       "  </tbody>\n",
       "</table>\n",
       "</div>"
      ],
      "text/plain": [
       "       Open      High       Low     Close  Volume_(BTC)  Volume_(Currency)  \\\n",
       "0  5.707110  5.707110  5.707110  5.707110      0.009950           1.386294   \n",
       "1  5.916202  5.916202  5.916202  5.916202      0.000000           0.000000   \n",
       "2  5.988961  5.988961  5.988961  5.988961      0.009950           1.605430   \n",
       "3  5.846439  5.846439  5.831882  5.831882      1.098612           6.530878   \n",
       "6  5.888878  5.888878  5.888878  5.888878      0.009950           1.526056   \n",
       "\n",
       "   Weighted_Price  Timestamp  \n",
       "0        5.707110 2014-12-01  \n",
       "1        0.000000 2014-12-08  \n",
       "2        5.988961 2014-12-15  \n",
       "3        5.839187 2014-12-22  \n",
       "6        5.888878 2015-01-12  "
      ]
     },
     "execution_count": 46,
     "metadata": {},
     "output_type": "execute_result"
    }
   ],
   "source": [
    "# extract and merge the date column\n",
    "date=weekly_data['Timestamp']\n",
    "lweekly_data['Timestamp']=date\n",
    "lweekly_data.head()"
   ]
  },
  {
   "cell_type": "code",
   "execution_count": 47,
   "metadata": {},
   "outputs": [
    {
     "data": {
      "text/plain": [
       "Text(0.5, 1.0, 'Timestamp vs Weighted_Price')"
      ]
     },
     "execution_count": 47,
     "metadata": {},
     "output_type": "execute_result"
    },
    {
     "data": {
      "image/png": "[encoded data removed]",
      "text/plain": [
       "<Figure size 1296x360 with 5 Axes>"
      ]
     },
     "metadata": {
      "needs_background": "light"
     },
     "output_type": "display_data"
    }
   ],
   "source": [
    "# figure size\n",
    "plt.figure(figsize = [18, 5])\n",
    "\n",
    "# open plot\n",
    "plt.subplot(2, 3, 1)\n",
    "plt.scatter(lweekly_data.Timestamp,lweekly_data.Open)\n",
    "# beautify the x-labels\n",
    "plt.gcf().autofmt_xdate()\n",
    "plt.xlabel('Timestamp')\n",
    "plt.ylabel('Open')\n",
    "plt.title('Timestamp vs open')\n",
    "\n",
    "# High plot\n",
    "plt.subplot(2, 3, 2)\n",
    "plt.scatter(lweekly_data.Timestamp,lweekly_data.High)\n",
    "# beautify the x-labels\n",
    "plt.gcf().autofmt_xdate()\n",
    "plt.xlabel('Timestamp')\n",
    "plt.ylabel('High')\n",
    "plt.title('Timestamp vs High')\n",
    "\n",
    "# Low plot\n",
    "plt.subplot(2, 3, 3)\n",
    "plt.scatter(lweekly_data.Timestamp,lweekly_data.Low)\n",
    "# beautify the x-labels\n",
    "plt.gcf().autofmt_xdate()\n",
    "plt.xlabel('Timestamp')\n",
    "plt.ylabel('Low')\n",
    "plt.title('Timestamp vs Low')\n",
    "\n",
    "# Close plot\n",
    "plt.subplot(2, 3, 4)\n",
    "plt.scatter(lweekly_data.Timestamp,lweekly_data.Close)\n",
    "# beautify the x-labels\n",
    "plt.gcf().autofmt_xdate()\n",
    "plt.xlabel('Timestamp')\n",
    "plt.ylabel('Close')\n",
    "plt.title('Timestamp vs Close')\n",
    "\n",
    "\n",
    "# Weighted_Price plot\n",
    "plt.subplot(2, 3, 5)\n",
    "plt.scatter(lweekly_data.Timestamp,lweekly_data.Weighted_Price)\n",
    "# beautify the x-labels\n",
    "plt.gcf().autofmt_xdate()\n",
    "plt.xlabel('Timestamp')\n",
    "plt.ylabel('Weighted_Price')\n",
    "plt.title('Timestamp vs Weighted_Price')\n",
    "\n",
    "\n"
   ]
  },
  {
   "cell_type": "code",
   "execution_count": 51,
   "metadata": {},
   "outputs": [
    {
     "data": {
      "text/plain": [
       "(10, 8)"
      ]
     },
     "execution_count": 51,
     "metadata": {},
     "output_type": "execute_result"
    }
   ],
   "source": [
    "# check the zero values in weighted price\n",
    "lweekly_data[lweekly_data['Weighted_Price']==0].shape"
   ]
  },
  {
   "cell_type": "code",
   "execution_count": 54,
   "metadata": {},
   "outputs": [
    {
     "data": {
      "text/plain": [
       "(195, 8)"
      ]
     },
     "execution_count": 54,
     "metadata": {},
     "output_type": "execute_result"
    }
   ],
   "source": [
    "# drop zero values in weighted price\n",
    "lweekly_data=lweekly_data.loc[lweekly_data.Weighted_Price>0]\n",
    "lweekly_data.shape"
   ]
  },
  {
   "cell_type": "code",
   "execution_count": 55,
   "metadata": {},
   "outputs": [
    {
     "data": {
      "text/plain": [
       "(0, 8)"
      ]
     },
     "execution_count": 55,
     "metadata": {},
     "output_type": "execute_result"
    }
   ],
   "source": [
    "# check the zero values in weighted price\n",
    "lweekly_data[lweekly_data['Weighted_Price']==0].shape"
   ]
  },
  {
   "cell_type": "code",
   "execution_count": 56,
   "metadata": {},
   "outputs": [
    {
     "data": {
      "text/plain": [
       "Text(0.5, 1.0, 'Timestamp vs Weighted_Price')"
      ]
     },
     "execution_count": 56,
     "metadata": {},
     "output_type": "execute_result"
    },
    {
     "data": {
      "image/png": "[encoded data removed]",
      "text/plain": [
       "<Figure size 432x288 with 1 Axes>"
      ]
     },
     "metadata": {
      "needs_background": "light"
     },
     "output_type": "display_data"
    }
   ],
   "source": [
    "# Weighted_Price plot\n",
    "plt.scatter(lweekly_data.Timestamp,lweekly_data.Weighted_Price)\n",
    "# beautify the x-labels\n",
    "plt.gcf().autofmt_xdate()\n",
    "plt.xlabel('Timestamp')\n",
    "plt.ylabel('Weighted_Price')\n",
    "plt.title('Timestamp vs Weighted_Price')"
   ]
  },
  {
   "cell_type": "code",
   "execution_count": 58,
   "metadata": {},
   "outputs": [],
   "source": [
    "# save the data\n",
    "engine=create_engine('sqlite:///LogWeeklyData.db')\n",
    "lweekly_data.to_sql('LogWeeklyData', engine, index=False)"
   ]
  },
  {
   "cell_type": "code",
   "execution_count": null,
   "metadata": {},
   "outputs": [],
   "source": []
  }
 ],
 "metadata": {
  "kernelspec": {
   "display_name": "Python 3",
   "language": "python",
   "name": "python3"
  },
  "language_info": {
   "codemirror_mode": {
    "name": "ipython",
    "version": 3
   },
   "file_extension": ".py",
   "mimetype": "text/x-python",
   "name": "python",
   "nbconvert_exporter": "python",
   "pygments_lexer": "ipython3",
   "version": "3.7.4"
  }
 },
 "nbformat": 4,
 "nbformat_minor": 4
}
