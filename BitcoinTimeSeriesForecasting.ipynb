{
 "cells": [
  {
   "cell_type": "code",
   "execution_count": 2,
   "metadata": {},
   "outputs": [],
   "source": [
    "# import libraries\n",
    "import pandas as pd"
   ]
  },
  {
   "cell_type": "markdown",
   "metadata": {},
   "source": [
    "## Exploratory data analysis"
   ]
  },
  {
   "cell_type": "code",
   "execution_count": 4,
   "metadata": {},
   "outputs": [],
   "source": [
    "# read the dataset\n",
    "df=pd.read_csv('CoineBase/coinbaseUSD_1-min_data_2014-12-01_to_2018-01-08.csv')"
   ]
  },
  {
   "cell_type": "code",
   "execution_count": 5,
   "metadata": {},
   "outputs": [
    {
     "data": {
      "text/html": [
       "<div>\n",
       "<style scoped>\n",
       "    .dataframe tbody tr th:only-of-type {\n",
       "        vertical-align: middle;\n",
       "    }\n",
       "\n",
       "    .dataframe tbody tr th {\n",
       "        vertical-align: top;\n",
       "    }\n",
       "\n",
       "    .dataframe thead th {\n",
       "        text-align: right;\n",
       "    }\n",
       "</style>\n",
       "<table border=\"1\" class=\"dataframe\">\n",
       "  <thead>\n",
       "    <tr style=\"text-align: right;\">\n",
       "      <th></th>\n",
       "      <th>Timestamp</th>\n",
       "      <th>Open</th>\n",
       "      <th>High</th>\n",
       "      <th>Low</th>\n",
       "      <th>Close</th>\n",
       "      <th>Volume_(BTC)</th>\n",
       "      <th>Volume_(Currency)</th>\n",
       "      <th>Weighted_Price</th>\n",
       "    </tr>\n",
       "  </thead>\n",
       "  <tbody>\n",
       "    <tr>\n",
       "      <th>0</th>\n",
       "      <td>1417411980</td>\n",
       "      <td>300.0</td>\n",
       "      <td>300.0</td>\n",
       "      <td>300.0</td>\n",
       "      <td>300.0</td>\n",
       "      <td>0.01</td>\n",
       "      <td>3.0</td>\n",
       "      <td>300.0</td>\n",
       "    </tr>\n",
       "    <tr>\n",
       "      <th>1</th>\n",
       "      <td>1417412040</td>\n",
       "      <td>300.0</td>\n",
       "      <td>300.0</td>\n",
       "      <td>300.0</td>\n",
       "      <td>300.0</td>\n",
       "      <td>0.01</td>\n",
       "      <td>3.0</td>\n",
       "      <td>300.0</td>\n",
       "    </tr>\n",
       "    <tr>\n",
       "      <th>2</th>\n",
       "      <td>1417412100</td>\n",
       "      <td>300.0</td>\n",
       "      <td>300.0</td>\n",
       "      <td>300.0</td>\n",
       "      <td>300.0</td>\n",
       "      <td>0.01</td>\n",
       "      <td>3.0</td>\n",
       "      <td>300.0</td>\n",
       "    </tr>\n",
       "    <tr>\n",
       "      <th>3</th>\n",
       "      <td>1417412160</td>\n",
       "      <td>300.0</td>\n",
       "      <td>300.0</td>\n",
       "      <td>300.0</td>\n",
       "      <td>300.0</td>\n",
       "      <td>0.01</td>\n",
       "      <td>3.0</td>\n",
       "      <td>300.0</td>\n",
       "    </tr>\n",
       "    <tr>\n",
       "      <th>4</th>\n",
       "      <td>1417412220</td>\n",
       "      <td>300.0</td>\n",
       "      <td>300.0</td>\n",
       "      <td>300.0</td>\n",
       "      <td>300.0</td>\n",
       "      <td>0.01</td>\n",
       "      <td>3.0</td>\n",
       "      <td>300.0</td>\n",
       "    </tr>\n",
       "  </tbody>\n",
       "</table>\n",
       "</div>"
      ],
      "text/plain": [
       "    Timestamp   Open   High    Low  Close  Volume_(BTC)  Volume_(Currency)  \\\n",
       "0  1417411980  300.0  300.0  300.0  300.0          0.01                3.0   \n",
       "1  1417412040  300.0  300.0  300.0  300.0          0.01                3.0   \n",
       "2  1417412100  300.0  300.0  300.0  300.0          0.01                3.0   \n",
       "3  1417412160  300.0  300.0  300.0  300.0          0.01                3.0   \n",
       "4  1417412220  300.0  300.0  300.0  300.0          0.01                3.0   \n",
       "\n",
       "   Weighted_Price  \n",
       "0           300.0  \n",
       "1           300.0  \n",
       "2           300.0  \n",
       "3           300.0  \n",
       "4           300.0  "
      ]
     },
     "execution_count": 5,
     "metadata": {},
     "output_type": "execute_result"
    }
   ],
   "source": [
    "# print the head of the dataset\n",
    "df.head()"
   ]
  },
  {
   "cell_type": "code",
   "execution_count": 6,
   "metadata": {},
   "outputs": [
    {
     "name": "stdout",
     "output_type": "stream",
     "text": [
      "<class 'pandas.core.frame.DataFrame'>\n",
      "RangeIndex: 1574274 entries, 0 to 1574273\n",
      "Data columns (total 8 columns):\n",
      " #   Column             Non-Null Count    Dtype  \n",
      "---  ------             --------------    -----  \n",
      " 0   Timestamp          1574274 non-null  int64  \n",
      " 1   Open               1574274 non-null  float64\n",
      " 2   High               1574274 non-null  float64\n",
      " 3   Low                1574274 non-null  float64\n",
      " 4   Close              1574274 non-null  float64\n",
      " 5   Volume_(BTC)       1574274 non-null  float64\n",
      " 6   Volume_(Currency)  1574274 non-null  float64\n",
      " 7   Weighted_Price     1574274 non-null  float64\n",
      "dtypes: float64(7), int64(1)\n",
      "memory usage: 96.1 MB\n"
     ]
    }
   ],
   "source": [
    "# print df info\n",
    "df.info()"
   ]
  },
  {
   "cell_type": "code",
   "execution_count": 8,
   "metadata": {},
   "outputs": [
    {
     "data": {
      "text/html": [
       "<div>\n",
       "<style scoped>\n",
       "    .dataframe tbody tr th:only-of-type {\n",
       "        vertical-align: middle;\n",
       "    }\n",
       "\n",
       "    .dataframe tbody tr th {\n",
       "        vertical-align: top;\n",
       "    }\n",
       "\n",
       "    .dataframe thead th {\n",
       "        text-align: right;\n",
       "    }\n",
       "</style>\n",
       "<table border=\"1\" class=\"dataframe\">\n",
       "  <thead>\n",
       "    <tr style=\"text-align: right;\">\n",
       "      <th></th>\n",
       "      <th>Timestamp</th>\n",
       "      <th>Open</th>\n",
       "      <th>High</th>\n",
       "      <th>Low</th>\n",
       "      <th>Close</th>\n",
       "      <th>Volume_(BTC)</th>\n",
       "      <th>Volume_(Currency)</th>\n",
       "      <th>Weighted_Price</th>\n",
       "    </tr>\n",
       "  </thead>\n",
       "  <tbody>\n",
       "    <tr>\n",
       "      <th>count</th>\n",
       "      <td>1.574274e+06</td>\n",
       "      <td>1.574274e+06</td>\n",
       "      <td>1.574274e+06</td>\n",
       "      <td>1.574274e+06</td>\n",
       "      <td>1.574274e+06</td>\n",
       "      <td>1.574274e+06</td>\n",
       "      <td>1.574274e+06</td>\n",
       "      <td>1.574274e+06</td>\n",
       "    </tr>\n",
       "    <tr>\n",
       "      <th>mean</th>\n",
       "      <td>1.468131e+09</td>\n",
       "      <td>1.705118e+03</td>\n",
       "      <td>1.706025e+03</td>\n",
       "      <td>1.704113e+03</td>\n",
       "      <td>1.705123e+03</td>\n",
       "      <td>7.073412e+00</td>\n",
       "      <td>2.267928e+04</td>\n",
       "      <td>1.705069e+03</td>\n",
       "    </tr>\n",
       "    <tr>\n",
       "      <th>std</th>\n",
       "      <td>2.728500e+07</td>\n",
       "      <td>3.059038e+03</td>\n",
       "      <td>3.061434e+03</td>\n",
       "      <td>3.056505e+03</td>\n",
       "      <td>3.059105e+03</td>\n",
       "      <td>1.698569e+01</td>\n",
       "      <td>1.225156e+05</td>\n",
       "      <td>3.058976e+03</td>\n",
       "    </tr>\n",
       "    <tr>\n",
       "      <th>min</th>\n",
       "      <td>1.417412e+09</td>\n",
       "      <td>6.000000e-02</td>\n",
       "      <td>6.000000e-02</td>\n",
       "      <td>6.000000e-02</td>\n",
       "      <td>6.000000e-02</td>\n",
       "      <td>1.000000e-08</td>\n",
       "      <td>2.641700e-06</td>\n",
       "      <td>6.000000e-02</td>\n",
       "    </tr>\n",
       "    <tr>\n",
       "      <th>25%</th>\n",
       "      <td>1.444527e+09</td>\n",
       "      <td>2.903000e+02</td>\n",
       "      <td>2.904100e+02</td>\n",
       "      <td>2.901800e+02</td>\n",
       "      <td>2.903000e+02</td>\n",
       "      <td>6.915000e-01</td>\n",
       "      <td>3.162361e+02</td>\n",
       "      <td>2.903031e+02</td>\n",
       "    </tr>\n",
       "    <tr>\n",
       "      <th>50%</th>\n",
       "      <td>1.468141e+09</td>\n",
       "      <td>5.900500e+02</td>\n",
       "      <td>5.902100e+02</td>\n",
       "      <td>5.899800e+02</td>\n",
       "      <td>5.900200e+02</td>\n",
       "      <td>2.381500e+00</td>\n",
       "      <td>1.398624e+03</td>\n",
       "      <td>5.900207e+02</td>\n",
       "    </tr>\n",
       "    <tr>\n",
       "      <th>75%</th>\n",
       "      <td>1.491756e+09</td>\n",
       "      <td>1.224490e+03</td>\n",
       "      <td>1.224810e+03</td>\n",
       "      <td>1.224090e+03</td>\n",
       "      <td>1.224490e+03</td>\n",
       "      <td>7.032457e+00</td>\n",
       "      <td>7.601787e+03</td>\n",
       "      <td>1.224453e+03</td>\n",
       "    </tr>\n",
       "    <tr>\n",
       "      <th>max</th>\n",
       "      <td>1.515370e+09</td>\n",
       "      <td>1.989199e+04</td>\n",
       "      <td>1.989199e+04</td>\n",
       "      <td>1.989198e+04</td>\n",
       "      <td>1.989199e+04</td>\n",
       "      <td>1.563267e+03</td>\n",
       "      <td>1.997076e+07</td>\n",
       "      <td>1.989199e+04</td>\n",
       "    </tr>\n",
       "  </tbody>\n",
       "</table>\n",
       "</div>"
      ],
      "text/plain": [
       "          Timestamp          Open          High           Low         Close  \\\n",
       "count  1.574274e+06  1.574274e+06  1.574274e+06  1.574274e+06  1.574274e+06   \n",
       "mean   1.468131e+09  1.705118e+03  1.706025e+03  1.704113e+03  1.705123e+03   \n",
       "std    2.728500e+07  3.059038e+03  3.061434e+03  3.056505e+03  3.059105e+03   \n",
       "min    1.417412e+09  6.000000e-02  6.000000e-02  6.000000e-02  6.000000e-02   \n",
       "25%    1.444527e+09  2.903000e+02  2.904100e+02  2.901800e+02  2.903000e+02   \n",
       "50%    1.468141e+09  5.900500e+02  5.902100e+02  5.899800e+02  5.900200e+02   \n",
       "75%    1.491756e+09  1.224490e+03  1.224810e+03  1.224090e+03  1.224490e+03   \n",
       "max    1.515370e+09  1.989199e+04  1.989199e+04  1.989198e+04  1.989199e+04   \n",
       "\n",
       "       Volume_(BTC)  Volume_(Currency)  Weighted_Price  \n",
       "count  1.574274e+06       1.574274e+06    1.574274e+06  \n",
       "mean   7.073412e+00       2.267928e+04    1.705069e+03  \n",
       "std    1.698569e+01       1.225156e+05    3.058976e+03  \n",
       "min    1.000000e-08       2.641700e-06    6.000000e-02  \n",
       "25%    6.915000e-01       3.162361e+02    2.903031e+02  \n",
       "50%    2.381500e+00       1.398624e+03    5.900207e+02  \n",
       "75%    7.032457e+00       7.601787e+03    1.224453e+03  \n",
       "max    1.563267e+03       1.997076e+07    1.989199e+04  "
      ]
     },
     "execution_count": 8,
     "metadata": {},
     "output_type": "execute_result"
    }
   ],
   "source": [
    "# print df describe\n",
    "df.describe()"
   ]
  },
  {
   "cell_type": "code",
   "execution_count": 9,
   "metadata": {},
   "outputs": [
    {
     "data": {
      "text/plain": [
       "array([[<matplotlib.axes._subplots.AxesSubplot object at 0x0000026402A57348>,\n",
       "        <matplotlib.axes._subplots.AxesSubplot object at 0x00000264039C41C8>,\n",
       "        <matplotlib.axes._subplots.AxesSubplot object at 0x00000264040ED408>],\n",
       "       [<matplotlib.axes._subplots.AxesSubplot object at 0x000002640F564548>,\n",
       "        <matplotlib.axes._subplots.AxesSubplot object at 0x000002640F59D648>,\n",
       "        <matplotlib.axes._subplots.AxesSubplot object at 0x000002640F5D56C8>],\n",
       "       [<matplotlib.axes._subplots.AxesSubplot object at 0x000002640F60C808>,\n",
       "        <matplotlib.axes._subplots.AxesSubplot object at 0x000002640F643908>,\n",
       "        <matplotlib.axes._subplots.AxesSubplot object at 0x000002640F64D948>]],\n",
       "      dtype=object)"
      ]
     },
     "execution_count": 9,
     "metadata": {},
     "output_type": "execute_result"
    },
    {
     "data": {
      "image/png": "[encoded data removed]",
      "text/plain": [
       "<Figure size 432x288 with 9 Axes>"
      ]
     },
     "metadata": {
      "needs_background": "light"
     },
     "output_type": "display_data"
    }
   ],
   "source": [
    "# visualize the data set\n",
    "df.hist()"
   ]
  },
  {
   "cell_type": "code",
   "execution_count": 10,
   "metadata": {},
   "outputs": [
    {
     "data": {
      "text/plain": [
       "Timestamp            False\n",
       "Open                 False\n",
       "High                 False\n",
       "Low                  False\n",
       "Close                False\n",
       "Volume_(BTC)         False\n",
       "Volume_(Currency)    False\n",
       "Weighted_Price       False\n",
       "dtype: bool"
      ]
     },
     "execution_count": 10,
     "metadata": {},
     "output_type": "execute_result"
    }
   ],
   "source": [
    "# check missing values\n",
    "df.isnull().any()"
   ]
  },
  {
   "cell_type": "code",
   "execution_count": 13,
   "metadata": {},
   "outputs": [
    {
     "data": {
      "text/plain": [
       "0"
      ]
     },
     "execution_count": 13,
     "metadata": {},
     "output_type": "execute_result"
    }
   ],
   "source": [
    "# check  duplicates\n",
    "df.duplicated().sum()"
   ]
  },
  {
   "cell_type": "markdown",
   "metadata": {},
   "source": [
    "## Data Cleaning"
   ]
  },
  {
   "cell_type": "code",
   "execution_count": 17,
   "metadata": {},
   "outputs": [],
   "source": [
    "# change the date format of timestamp column\n",
    "#df['Timestamp']=df['Timestamp'].dt.strftime('%m/%d/%Y')\n",
    "#df['Timestamp']=pd.to_datetime(df['Timestamp'],format='%d/%m/%Y')"
   ]
  },
  {
   "cell_type": "code",
   "execution_count": null,
   "metadata": {},
   "outputs": [],
   "source": []
  }
 ],
 "metadata": {
  "kernelspec": {
   "display_name": "Python 3",
   "language": "python",
   "name": "python3"
  },
  "language_info": {
   "codemirror_mode": {
    "name": "ipython",
    "version": 3
   },
   "file_extension": ".py",
   "mimetype": "text/x-python",
   "name": "python",
   "nbconvert_exporter": "python",
   "pygments_lexer": "ipython3",
   "version": "3.7.4"
  }
 },
 "nbformat": 4,
 "nbformat_minor": 4
}
